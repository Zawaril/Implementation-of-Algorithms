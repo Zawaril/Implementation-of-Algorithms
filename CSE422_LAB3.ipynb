{
  "nbformat": 4,
  "nbformat_minor": 0,
  "metadata": {
    "colab": {
      "name": "CSE422_LAB3.ipynb",
      "provenance": [],
      "collapsed_sections": [],
      "authorship_tag": "ABX9TyN1IvfsUMAONXKBFAJmXyCI",
      "include_colab_link": true
    },
    "kernelspec": {
      "name": "python3",
      "display_name": "Python 3"
    },
    "language_info": {
      "name": "python"
    }
  },
  "cells": [
    {
      "cell_type": "markdown",
      "metadata": {
        "id": "view-in-github",
        "colab_type": "text"
      },
      "source": [
        "<a href=\"https://colab.research.google.com/github/Zawaril/Implementation-of-Algorithms/blob/main/CSE422_LAB3.ipynb\" target=\"_parent\"><img src=\"https://colab.research.google.com/assets/colab-badge.svg\" alt=\"Open In Colab\"/></a>"
      ]
    },
    {
      "cell_type": "code",
      "metadata": {
        "id": "FbpdDTTI1Pnn"
      },
      "source": [
        "import random"
      ],
      "execution_count": null,
      "outputs": []
    },
    {
      "cell_type": "code",
      "metadata": {
        "id": "KB_LPrvl-erC"
      },
      "source": [
        "def minimax(tree,pos,y,depth,branchingFactor,count,maxPlayer):\n",
        "  if depth == 0:\n",
        "    count=count+1\n",
        "    return count,tree[pos][y]\n",
        "  elif maxPlayer:\n",
        "    maxEval = -100000\n",
        "    for i in range(branchingFactor):\n",
        "      count,eval=minimax(tree,pos+1, (y*branchingFactor)+i, depth-1,branchingFactor,count,False)\n",
        "      maxEval=max(maxEval,eval)\n",
        "    tree[pos][y]=maxEval\n",
        "      \n",
        "    return count,maxEval\n",
        "\n",
        "  else:\n",
        "    minEval = 100000\n",
        "    for i in range(branchingFactor):\n",
        "      count,eval=minimax(tree, pos+1,(y*branchingFactor)+i, depth-1,branchingFactor,count,True)\n",
        "      minEval=min(minEval,eval)\n",
        "    tree[pos][y]=minEval\n",
        "      \n",
        "    return count, minEval"
      ],
      "execution_count": null,
      "outputs": []
    },
    {
      "cell_type": "code",
      "metadata": {
        "id": "Jl-O_0521shw"
      },
      "source": [
        "def minimaxPruning(tree,pos,y,depth,alpha,beta,branchingFactor,count,maxPlayer):\n",
        "  if depth == 0:\n",
        "    count=count+1\n",
        "    return count,tree[pos][y]\n",
        "\n",
        "  elif maxPlayer:\n",
        "    maxEval = -100000\n",
        "    for i in range(branchingFactor):\n",
        "      count,eval=minimaxPruning(tree,pos+1, (y*branchingFactor)+i, depth-1, alpha,beta,branchingFactor,count,False)\n",
        "      maxEval=max(maxEval,eval)\n",
        "      tree[pos][y]=maxEval\n",
        "      alpha=max(alpha,eval)\n",
        "      if beta<=alpha:\n",
        "        break\n",
        "    return count,maxEval\n",
        "\n",
        "  else:\n",
        "    minEval = 100000\n",
        "    for i in range(branchingFactor):\n",
        "      count,eval=minimaxPruning(tree, pos+1,(y*branchingFactor)+i, depth-1, alpha,beta,branchingFactor,count,True)\n",
        "      minEval=min(minEval,eval)\n",
        "      tree[pos][y]=minEval\n",
        "      beta=min(beta,eval)\n",
        "      if beta<=alpha:\n",
        "        break\n",
        "    return count,minEval"
      ],
      "execution_count": null,
      "outputs": []
    },
    {
      "cell_type": "code",
      "metadata": {
        "colab": {
          "base_uri": "https://localhost:8080/"
        },
        "id": "3WnRNnlTC5Pi",
        "outputId": "9da99105-9727-43e7-fd1e-11b13ba81713"
      },
      "source": [
        "#inputs values (can be changed):\n",
        "\n",
        "chances=1\n",
        "children=3\n",
        "min_leaf_value=1\n",
        "max_leaf_value=20 \n",
        "\n",
        "#depth=chances*2 as Riyad and arko will get equal chances\n",
        "\n",
        "depth=chances*2\n",
        "\n",
        "#Generating the Tree\n",
        "\n",
        "tree=list()\n",
        "\n",
        "for i in range(depth+1):\n",
        "    child=list()\n",
        "    count=0\n",
        "    for j in range(children**i):\n",
        "      child.append(random.randrange(min_leaf_value, max_leaf_value, 1))\n",
        "      if count>=children:\n",
        "        tree.append()\n",
        "    tree.append(child)\n",
        "\n",
        "print(\"Initial Tree: \", tree)\n",
        "\n",
        "comparison1,value1= minimax(tree, 0, 0, depth,children,0,True)\n",
        "print(\"Tree after calling Minimax: \", tree)\n",
        "\n",
        "comparison2,value2 = minimaxPruning(tree, 0, 0, depth,-1000,1000,children,0,True)\n",
        "print(\"Tree after pruning: \", tree)\n",
        "\n",
        "print(\"Depth: \", depth)\n",
        "print(\"Branch: \", children)\n",
        "print(\"Terminal States(Leaf Nodes): \", children**depth)\n",
        "print(\"Maximum Amount: \",value1)\n",
        "print(\"Before Alpha Beta Pruning Number of comparisons to get the root value: \", comparison1)\n",
        "print(\"After Alpha Beta Pruning Number of comparisons to get the root value: \", comparison2)"
      ],
      "execution_count": null,
      "outputs": [
        {
          "output_type": "stream",
          "text": [
            "Initial Tree:  [[1], [12, 18, 3], [12, 4, 19, 18, 10, 15, 3, 5, 7]]\n",
            "Tree after calling Minimax:  [[10], [4, 10, 3], [12, 4, 19, 18, 10, 15, 3, 5, 7]]\n",
            "Tree after pruning:  [[10], [4, 10, 3], [12, 4, 19, 18, 10, 15, 3, 5, 7]]\n",
            "Depth:  2\n",
            "Branch:  3\n",
            "Terminal States(Leaf Nodes):  9\n",
            "Maximum Amount:  10\n",
            "Before Alpha Beta Pruning Number of comparisons to get the root value:  9\n",
            "After Alpha Beta Pruning Number of comparisons to get the root value:  7\n"
          ],
          "name": "stdout"
        }
      ]
    },
    {
      "cell_type": "code",
      "metadata": {
        "id": "qrjQ-r77VneI"
      },
      "source": [
        "   "
      ],
      "execution_count": null,
      "outputs": []
    }
  ]
}