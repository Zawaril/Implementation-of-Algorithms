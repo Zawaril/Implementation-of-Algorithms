{
  "nbformat": 4,
  "nbformat_minor": 0,
  "metadata": {
    "colab": {
      "name": "CSE422_Lab1.ipynb",
      "provenance": [],
      "collapsed_sections": [],
      "authorship_tag": "ABX9TyMm+MqYPhcYm1cBvGPpHgYs",
      "include_colab_link": true
    },
    "kernelspec": {
      "name": "python3",
      "display_name": "Python 3"
    },
    "language_info": {
      "name": "python"
    }
  },
  "cells": [
    {
      "cell_type": "markdown",
      "metadata": {
        "id": "view-in-github",
        "colab_type": "text"
      },
      "source": [
        "<a href=\"https://colab.research.google.com/github/Zawaril/Implementation-of-Algorithms/blob/main/BFS%20Using%20Python.ipynb\" target=\"_parent\"><img src=\"https://colab.research.google.com/assets/colab-badge.svg\" alt=\"Open In Colab\"/></a>"
      ]
    },
    {
      "cell_type": "code",
      "metadata": {
        "id": "n4pHftv27w8P"
      },
      "source": [
        "import numpy as np\n",
        "\n",
        " "
      ],
      "execution_count": null,
      "outputs": []
    },
    {
      "cell_type": "code",
      "metadata": {
        "id": "i_nfJMf5Bwvs"
      },
      "source": [
        "def BFS(g,s,l):\n",
        "  u=-1\n",
        "  row=np.size(g,0)\n",
        "  color=np.zeros(row)\n",
        "  d=np.zeros(row)\n",
        "  p=np.zeros(row)\n",
        "\n",
        "  for i in range(row):\n",
        "    if i!=s:\n",
        "      u=i;\n",
        "      color[u]=0  #0=\"WHITE\"\n",
        "      d[u]=-1 #infinity\n",
        "      p[u]=-1 #null\n",
        "\n",
        "  color[s]=1 #1=\"GREY\"\n",
        "  d[s]=0\n",
        "  p[s]=-1\n",
        "\n",
        "  queue=[]\n",
        "  queue.append(s)\n",
        "\n",
        "  while len(queue)!=0:\n",
        "    u=queue.pop();\n",
        "    v=-1\n",
        "    for j in range(row):\n",
        "       if g[u][j]==1:\n",
        "         v=j;\n",
        "\n",
        "         if color[v]==0:\n",
        "           color[v]=1\n",
        "           d[v]=d[u]+1\n",
        "           p[v]=u\n",
        "           queue.append(v);\n",
        "    color[u]=2 # 2=\"BLACK\"\n",
        "\n",
        "  return d[l]\n"
      ],
      "execution_count": null,
      "outputs": []
    },
    {
      "cell_type": "code",
      "metadata": {
        "colab": {
          "base_uri": "https://localhost:8080/"
        },
        "id": "AQjfcOOXCBex",
        "outputId": "f6eac13b-c7c2-421b-ad4f-6094b97e7e9e"
      },
      "source": [
        "file=open('input.txt') \n",
        "f=file.read()\n",
        "\n",
        "s= f.split()\n",
        "#print(s)\n",
        "nodes=int(s[0])\n",
        "edges=int(s[1])\n",
        "LinaPosition=int(s[-1])\n",
        "#print(LinaPosition)\n",
        "g=np.zeros((nodes,nodes))\n",
        "count=2\n",
        "\n",
        "for i in range(edges):\n",
        "  g[int(s[count]),int(s[count+1])]=1\n",
        "  g[int(s[count+1]),int(s[count])]=1\n",
        "  count=count+2\n",
        "\n",
        "NoraPosition=0\n",
        "#print(g)\n",
        "output = BFS(g,NoraPosition,LinaPosition)\n",
        "print(output)  "
      ],
      "execution_count": null,
      "outputs": [
        {
          "output_type": "stream",
          "text": [
            "2.0\n"
          ],
          "name": "stdout"
        }
      ]
    },
    {
      "cell_type": "code",
      "metadata": {
        "id": "4orCTRFhst9n"
      },
      "source": [
        ""
      ],
      "execution_count": null,
      "outputs": []
    }
  ]
}